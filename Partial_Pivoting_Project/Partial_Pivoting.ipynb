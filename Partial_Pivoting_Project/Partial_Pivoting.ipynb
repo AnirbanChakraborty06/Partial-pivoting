{
 "cells": [
  {
   "cell_type": "markdown",
   "metadata": {},
   "source": [
    "# Partial Pivoting\n",
    "## An empirical demonstration of its need"
   ]
  },
  {
   "cell_type": "markdown",
   "metadata": {},
   "source": [
    "### Checking the stability of the solution as a function of the first pivot"
   ]
  },
  {
   "cell_type": "markdown",
   "metadata": {},
   "source": [
    "### Strategy:"
   ]
  },
  {
   "cell_type": "markdown",
   "metadata": {},
   "source": [
    "**We will study by how much the solution x  in Ax=b varies as the first pivot point of A gets smaller. Towards that end,\n",
    "we will take the following strategy -**\n",
    "\n",
    "<ol>\n",
    "<li>We will take an arbitrary square matrix A of size mxm.</li>\n",
    "    \n",
    "<li>\n",
    "We will decide upon a statistic that denotes a typical measure of the entries of the first column except the first pivot entry. This might be a minimum, maximum, mean, median etc among the other entries of the first column. Say we take minimum as a statistic.\n",
    "    <code>\n",
    "col1_min = np.min(A[1:,0])\n",
    "</code>\n",
    "</li>\n",
    " \n",
    "<li>\n",
    "We will find out the magnitude of the pivot entry relative to col1_min. We will call this the relative value of the pivot entry from now on.\n",
    "<code>\n",
    "frac_0 = A[0,0]/col1_min\n",
    "</code>\n",
    "</li>\n",
    "\n",
    "<li>\n",
    "By varying this relative value of pivot from its initial value frac_0 to almost 0 in STEP(s) we generate a sequence.\n",
    "<code>\n",
    "frac_ser = pd.Series(np.arange(start=frac_0, stop = STOP, step=-STEP))\n",
    "</code>\n",
    "</li>\n",
    "\n",
    "<li>\n",
    "Each entry of this sequence of relative pivot values gives rise to a corresponding actual pivot value. These actual pivot values form a sequence of pivots. Thus we obtain a sequence of pivots gradually decreasing and eventually becoming negligibly small compared to other entries of the first column.\n",
    "<code>\n",
    "pivot_ser = frac_ser*col1_min\n",
    "</code>\n",
    "</li>\n",
    "    \n",
    "<li>\n",
    "Now each of these pivot entries produce a matrix. We have a sequence of matrices where the pivot entry varies across the matrices.\n",
    "</li>\n",
    "    \n",
    "<li>\n",
    "Each such matrix produces a solution x for Ax=b. We choose a fixed arbitrary b. The solutions produce a sequence of solution points.\n",
    "</li>\n",
    "    \n",
    "<li>\n",
    "From each solution to the next there is a change. The magnitude of the relative change of the solution we need to study. Say two consecutive solutions are x0 and x1 respectively. The change is (x1-x0). We need to study magnitude(x1-x0)/magnitude(x0). This is the relative change of the solution for each STEP change in the relative value of pivot. The sequence of solutions provide us with a sequence of such relative changes in solution.\n",
    "</li>\n",
    "    \n",
    "<li>\n",
    "The relative changes derived above is plotted against the relative pivot values.\n",
    "</li>\n",
    "\n",
    "</ol>\n",
    "    \n",
    "**Expectation**\n",
    "<blockquote>\n",
    "We expect to see a spike in the relative change of the solution as the relative value of the pivot decreases. If we do see such a phenomenon we can get a sort of justification for using the approach of partial pivoting.\n",
    "</blockquote>\n",
    "     \n",
    "**Some additional and noteworthy points**\n",
    "<ul>\n",
    "    <li>We will discard any singular matrix we face. We will discard the corresponding relative pivot value data-point as well.</li>\n",
    "    <li>We will perform this study on 100 different square matrices for any given size (say 2x2). We will not generate a plot for each of these. We will record the relative value of pivot at which the maximum change in relative value of solution is observed. We will try to see if there is a typical relative pivot value at which this maximum solution instability occurs.</li>\n",
    "    <li>We will perform this study in turns on matrices of various sizes and record the variation of the typical (or mean) relative pivot value with the size.</li>\n",
    "</ul>    "
   ]
  },
  {
   "cell_type": "code",
   "execution_count": 1,
   "metadata": {},
   "outputs": [],
   "source": [
    "%matplotlib inline\n",
    "import numpy as np\n",
    "import pandas as pd\n",
    "import matplotlib.pyplot as plt"
   ]
  },
  {
   "cell_type": "markdown",
   "metadata": {},
   "source": [
    "### 1. Setting some basic parameters"
   ]
  },
  {
   "cell_type": "code",
   "execution_count": 2,
   "metadata": {},
   "outputs": [],
   "source": [
    "N = 2  # Size of the matrix: NxN.\n",
    "STEP = 0.01  # Amount by which the relative pivot value is changed in each step.\n",
    "LOW = 1\n",
    "HIGH = 10  # low and high limits for the matrix entries.\n",
    "STOP = 0.001  # lowest relative pivot value"
   ]
  },
  {
   "cell_type": "markdown",
   "metadata": {},
   "source": [
    "### 2. Declaring the matrix A and vector b"
   ]
  },
  {
   "cell_type": "code",
   "execution_count": 3,
   "metadata": {},
   "outputs": [
    {
     "name": "stderr",
     "output_type": "stream",
     "text": [
      "E:\\Softwares\\Anaconda3\\lib\\site-packages\\ipykernel_launcher.py:1: DeprecationWarning: This function is deprecated. Please call randint(1, 10 + 1) instead\n",
      "  \"\"\"Entry point for launching an IPython kernel.\n"
     ]
    },
    {
     "data": {
      "text/plain": [
       "array([[10.,  5.],\n",
       "       [ 5.,  6.]])"
      ]
     },
     "execution_count": 3,
     "metadata": {},
     "output_type": "execute_result"
    }
   ],
   "source": [
    "A = np.array(np.random.random_integers(low=LOW, high=HIGH, size=(N,N)), dtype='float64')\n",
    "A[0,0]=10.0  #Pivot value is set to maximum value and will vary over the entire possible range.\n",
    "A"
   ]
  },
  {
   "cell_type": "code",
   "execution_count": 4,
   "metadata": {},
   "outputs": [
    {
     "name": "stderr",
     "output_type": "stream",
     "text": [
      "E:\\Softwares\\Anaconda3\\lib\\site-packages\\ipykernel_launcher.py:1: DeprecationWarning: This function is deprecated. Please call randint(1, 30 + 1) instead\n",
      "  \"\"\"Entry point for launching an IPython kernel.\n"
     ]
    },
    {
     "data": {
      "text/plain": [
       "array([24.,  6.])"
      ]
     },
     "execution_count": 4,
     "metadata": {},
     "output_type": "execute_result"
    }
   ],
   "source": [
    "b=np.array(np.random.random_integers(low=1, high=3*10, size=(2,)), dtype='float64').transpose()\n",
    "b"
   ]
  },
  {
   "cell_type": "markdown",
   "metadata": {},
   "source": [
    "### 3. Finding a measure of the non-pivot entries of the first column\n",
    "#### statistic = minimum"
   ]
  },
  {
   "cell_type": "code",
   "execution_count": 5,
   "metadata": {},
   "outputs": [
    {
     "data": {
      "text/plain": [
       "5.0"
      ]
     },
     "execution_count": 5,
     "metadata": {},
     "output_type": "execute_result"
    }
   ],
   "source": [
    "col1_min = np.min(A[1:,0])\n",
    "col1_min"
   ]
  },
  {
   "cell_type": "markdown",
   "metadata": {},
   "source": [
    "### 4. Sequence of relative pivot values"
   ]
  },
  {
   "cell_type": "code",
   "execution_count": 6,
   "metadata": {},
   "outputs": [
    {
     "data": {
      "text/plain": [
       "2.0"
      ]
     },
     "execution_count": 6,
     "metadata": {},
     "output_type": "execute_result"
    }
   ],
   "source": [
    "frac_0 = A[0,0]/col1_min\n",
    "frac_0"
   ]
  },
  {
   "cell_type": "code",
   "execution_count": 7,
   "metadata": {},
   "outputs": [
    {
     "data": {
      "text/plain": [
       "0      2.00\n",
       "1      1.99\n",
       "2      1.98\n",
       "3      1.97\n",
       "4      1.96\n",
       "       ... \n",
       "195    0.05\n",
       "196    0.04\n",
       "197    0.03\n",
       "198    0.02\n",
       "199    0.01\n",
       "Length: 200, dtype: float64"
      ]
     },
     "execution_count": 7,
     "metadata": {},
     "output_type": "execute_result"
    }
   ],
   "source": [
    "# The fraction series is created as a series instead of ndarray so that its size may be amended in place later on.\n",
    "frac_ser = pd.Series(np.arange(start=frac_0, stop = STOP, step=-(STEP)))\n",
    "frac_ser"
   ]
  },
  {
   "cell_type": "markdown",
   "metadata": {},
   "source": [
    "### 5. Sequence of actual pivot values"
   ]
  },
  {
   "cell_type": "code",
   "execution_count": 8,
   "metadata": {},
   "outputs": [
    {
     "data": {
      "text/plain": [
       "0      10.00\n",
       "1       9.95\n",
       "2       9.90\n",
       "3       9.85\n",
       "4       9.80\n",
       "       ...  \n",
       "195     0.25\n",
       "196     0.20\n",
       "197     0.15\n",
       "198     0.10\n",
       "199     0.05\n",
       "Length: 200, dtype: float64"
      ]
     },
     "execution_count": 8,
     "metadata": {},
     "output_type": "execute_result"
    }
   ],
   "source": [
    "pivot_ser = frac_ser*col1_min\n",
    "pivot_ser[0] = A[0,0]  # Restoring the intial pivot value as the original A[0,0] entry. \n",
    "                        # But pivot_ser[0] might be A[0,0] already. Hence this is possibly a redundant step.\n",
    "pivot_ser"
   ]
  },
  {
   "cell_type": "markdown",
   "metadata": {},
   "source": [
    "### 6. Sequence of matrices"
   ]
  },
  {
   "cell_type": "code",
   "execution_count": 9,
   "metadata": {},
   "outputs": [],
   "source": [
    "matrix_ser = []\n",
    "for new_pivot in pivot_ser:\n",
    "    A_new = np.copy(A)\n",
    "    A_new[0,0] = new_pivot\n",
    "    matrix_ser.append(A_new)"
   ]
  },
  {
   "cell_type": "code",
   "execution_count": 10,
   "metadata": {},
   "outputs": [
    {
     "data": {
      "text/plain": [
       "array([[0.05, 5.  ],\n",
       "       [5.  , 6.  ]])"
      ]
     },
     "execution_count": 10,
     "metadata": {},
     "output_type": "execute_result"
    }
   ],
   "source": [
    "matrix_ser[-1]"
   ]
  },
  {
   "cell_type": "markdown",
   "metadata": {},
   "source": [
    "### 7. Sequence of solutions"
   ]
  },
  {
   "cell_type": "code",
   "execution_count": 11,
   "metadata": {},
   "outputs": [
    {
     "data": {
      "text/html": [
       "<div>\n",
       "<style scoped>\n",
       "    .dataframe tbody tr th:only-of-type {\n",
       "        vertical-align: middle;\n",
       "    }\n",
       "\n",
       "    .dataframe tbody tr th {\n",
       "        vertical-align: top;\n",
       "    }\n",
       "\n",
       "    .dataframe thead th {\n",
       "        text-align: right;\n",
       "    }\n",
       "</style>\n",
       "<table border=\"1\" class=\"dataframe\">\n",
       "  <thead>\n",
       "    <tr style=\"text-align: right;\">\n",
       "      <th></th>\n",
       "      <th>0</th>\n",
       "    </tr>\n",
       "  </thead>\n",
       "  <tbody>\n",
       "    <tr>\n",
       "      <th>0</th>\n",
       "      <td>0.0</td>\n",
       "    </tr>\n",
       "    <tr>\n",
       "      <th>1</th>\n",
       "      <td>0.0</td>\n",
       "    </tr>\n",
       "  </tbody>\n",
       "</table>\n",
       "</div>"
      ],
      "text/plain": [
       "     0\n",
       "0  0.0\n",
       "1  0.0"
      ]
     },
     "execution_count": 11,
     "metadata": {},
     "output_type": "execute_result"
    }
   ],
   "source": [
    "soln_ser = pd.DataFrame(np.zeros((N,1)))  # initializing a dataframe whose columns will hold the solutions\n",
    "soln_ser"
   ]
  },
  {
   "cell_type": "code",
   "execution_count": 12,
   "metadata": {},
   "outputs": [],
   "source": [
    "for i in range(len(matrix_ser)):\n",
    "    if np.linalg.matrix_rank(matrix_ser[i]) < N:\n",
    "        print('Deleted index', i, 'with value', frac_ser[i], 'from frac_ser')\n",
    "        frac_ser.drop(labels=[i], inplace=True)\n",
    "    else:\n",
    "        soln = pd.DataFrame(np.linalg.solve(a=matrix_ser[i], b=b).transpose())\n",
    "        soln_ser[i] = soln"
   ]
  },
  {
   "cell_type": "code",
   "execution_count": 13,
   "metadata": {},
   "outputs": [
    {
     "data": {
      "text/html": [
       "<div>\n",
       "<style scoped>\n",
       "    .dataframe tbody tr th:only-of-type {\n",
       "        vertical-align: middle;\n",
       "    }\n",
       "\n",
       "    .dataframe tbody tr th {\n",
       "        vertical-align: top;\n",
       "    }\n",
       "\n",
       "    .dataframe thead th {\n",
       "        text-align: right;\n",
       "    }\n",
       "</style>\n",
       "<table border=\"1\" class=\"dataframe\">\n",
       "  <thead>\n",
       "    <tr style=\"text-align: right;\">\n",
       "      <th></th>\n",
       "      <th>0</th>\n",
       "      <th>1</th>\n",
       "      <th>2</th>\n",
       "      <th>3</th>\n",
       "      <th>4</th>\n",
       "      <th>5</th>\n",
       "      <th>6</th>\n",
       "      <th>7</th>\n",
       "      <th>8</th>\n",
       "      <th>9</th>\n",
       "      <th>...</th>\n",
       "      <th>190</th>\n",
       "      <th>191</th>\n",
       "      <th>192</th>\n",
       "      <th>193</th>\n",
       "      <th>194</th>\n",
       "      <th>195</th>\n",
       "      <th>196</th>\n",
       "      <th>197</th>\n",
       "      <th>198</th>\n",
       "      <th>199</th>\n",
       "    </tr>\n",
       "  </thead>\n",
       "  <tbody>\n",
       "    <tr>\n",
       "      <th>0</th>\n",
       "      <td>3.257143</td>\n",
       "      <td>3.285303</td>\n",
       "      <td>3.313953</td>\n",
       "      <td>3.343109</td>\n",
       "      <td>3.372781</td>\n",
       "      <td>3.402985</td>\n",
       "      <td>3.433735</td>\n",
       "      <td>3.465046</td>\n",
       "      <td>3.496933</td>\n",
       "      <td>3.529412</td>\n",
       "      <td>...</td>\n",
       "      <td>-5.181818</td>\n",
       "      <td>-5.112108</td>\n",
       "      <td>-5.044248</td>\n",
       "      <td>-4.978166</td>\n",
       "      <td>-4.913793</td>\n",
       "      <td>-4.851064</td>\n",
       "      <td>-4.789916</td>\n",
       "      <td>-4.730290</td>\n",
       "      <td>-4.672131</td>\n",
       "      <td>-4.615385</td>\n",
       "    </tr>\n",
       "    <tr>\n",
       "      <th>1</th>\n",
       "      <td>-1.714286</td>\n",
       "      <td>-1.737752</td>\n",
       "      <td>-1.761628</td>\n",
       "      <td>-1.785924</td>\n",
       "      <td>-1.810651</td>\n",
       "      <td>-1.835821</td>\n",
       "      <td>-1.861446</td>\n",
       "      <td>-1.887538</td>\n",
       "      <td>-1.914110</td>\n",
       "      <td>-1.941176</td>\n",
       "      <td>...</td>\n",
       "      <td>5.318182</td>\n",
       "      <td>5.260090</td>\n",
       "      <td>5.203540</td>\n",
       "      <td>5.148472</td>\n",
       "      <td>5.094828</td>\n",
       "      <td>5.042553</td>\n",
       "      <td>4.991597</td>\n",
       "      <td>4.941909</td>\n",
       "      <td>4.893443</td>\n",
       "      <td>4.846154</td>\n",
       "    </tr>\n",
       "  </tbody>\n",
       "</table>\n",
       "<p>2 rows × 200 columns</p>\n",
       "</div>"
      ],
      "text/plain": [
       "        0         1         2         3         4         5         6    \\\n",
       "0  3.257143  3.285303  3.313953  3.343109  3.372781  3.402985  3.433735   \n",
       "1 -1.714286 -1.737752 -1.761628 -1.785924 -1.810651 -1.835821 -1.861446   \n",
       "\n",
       "        7         8         9    ...       190       191       192       193  \\\n",
       "0  3.465046  3.496933  3.529412  ... -5.181818 -5.112108 -5.044248 -4.978166   \n",
       "1 -1.887538 -1.914110 -1.941176  ...  5.318182  5.260090  5.203540  5.148472   \n",
       "\n",
       "        194       195       196       197       198       199  \n",
       "0 -4.913793 -4.851064 -4.789916 -4.730290 -4.672131 -4.615385  \n",
       "1  5.094828  5.042553  4.991597  4.941909  4.893443  4.846154  \n",
       "\n",
       "[2 rows x 200 columns]"
      ]
     },
     "execution_count": 13,
     "metadata": {},
     "output_type": "execute_result"
    }
   ],
   "source": [
    "soln_ser"
   ]
  },
  {
   "cell_type": "code",
   "execution_count": 14,
   "metadata": {},
   "outputs": [
    {
     "data": {
      "text/plain": [
       "0      2.00\n",
       "1      1.99\n",
       "2      1.98\n",
       "3      1.97\n",
       "4      1.96\n",
       "       ... \n",
       "195    0.05\n",
       "196    0.04\n",
       "197    0.03\n",
       "198    0.02\n",
       "199    0.01\n",
       "Length: 200, dtype: float64"
      ]
     },
     "execution_count": 14,
     "metadata": {},
     "output_type": "execute_result"
    }
   ],
   "source": [
    "frac_ser.index = np.arange(len(frac_ser))  # Reindexing frac_ser because a few entries might have been dropped when\n",
    "                                            # corresponding matrix was singular.\n",
    "frac_ser"
   ]
  },
  {
   "cell_type": "markdown",
   "metadata": {},
   "source": [
    "### 8. Sequence of changes in solution"
   ]
  },
  {
   "cell_type": "code",
   "execution_count": 15,
   "metadata": {},
   "outputs": [
    {
     "data": {
      "text/html": [
       "<div>\n",
       "<style scoped>\n",
       "    .dataframe tbody tr th:only-of-type {\n",
       "        vertical-align: middle;\n",
       "    }\n",
       "\n",
       "    .dataframe tbody tr th {\n",
       "        vertical-align: top;\n",
       "    }\n",
       "\n",
       "    .dataframe thead th {\n",
       "        text-align: right;\n",
       "    }\n",
       "</style>\n",
       "<table border=\"1\" class=\"dataframe\">\n",
       "  <thead>\n",
       "    <tr style=\"text-align: right;\">\n",
       "      <th></th>\n",
       "      <th>0</th>\n",
       "    </tr>\n",
       "  </thead>\n",
       "  <tbody>\n",
       "    <tr>\n",
       "      <th>0</th>\n",
       "      <td>0.0</td>\n",
       "    </tr>\n",
       "    <tr>\n",
       "      <th>1</th>\n",
       "      <td>0.0</td>\n",
       "    </tr>\n",
       "  </tbody>\n",
       "</table>\n",
       "</div>"
      ],
      "text/plain": [
       "     0\n",
       "0  0.0\n",
       "1  0.0"
      ]
     },
     "execution_count": 15,
     "metadata": {},
     "output_type": "execute_result"
    }
   ],
   "source": [
    "change_ser = pd.DataFrame(np.zeros((N,1)))\n",
    "change_ser"
   ]
  },
  {
   "cell_type": "code",
   "execution_count": 16,
   "metadata": {},
   "outputs": [
    {
     "data": {
      "text/html": [
       "<div>\n",
       "<style scoped>\n",
       "    .dataframe tbody tr th:only-of-type {\n",
       "        vertical-align: middle;\n",
       "    }\n",
       "\n",
       "    .dataframe tbody tr th {\n",
       "        vertical-align: top;\n",
       "    }\n",
       "\n",
       "    .dataframe thead th {\n",
       "        text-align: right;\n",
       "    }\n",
       "</style>\n",
       "<table border=\"1\" class=\"dataframe\">\n",
       "  <thead>\n",
       "    <tr style=\"text-align: right;\">\n",
       "      <th></th>\n",
       "      <th>0</th>\n",
       "      <th>1</th>\n",
       "      <th>2</th>\n",
       "      <th>3</th>\n",
       "      <th>4</th>\n",
       "      <th>5</th>\n",
       "      <th>6</th>\n",
       "      <th>7</th>\n",
       "      <th>8</th>\n",
       "      <th>9</th>\n",
       "      <th>...</th>\n",
       "      <th>189</th>\n",
       "      <th>190</th>\n",
       "      <th>191</th>\n",
       "      <th>192</th>\n",
       "      <th>193</th>\n",
       "      <th>194</th>\n",
       "      <th>195</th>\n",
       "      <th>196</th>\n",
       "      <th>197</th>\n",
       "      <th>198</th>\n",
       "    </tr>\n",
       "  </thead>\n",
       "  <tbody>\n",
       "    <tr>\n",
       "      <th>0</th>\n",
       "      <td>0.028160</td>\n",
       "      <td>0.028651</td>\n",
       "      <td>0.029155</td>\n",
       "      <td>0.029673</td>\n",
       "      <td>0.030204</td>\n",
       "      <td>0.030750</td>\n",
       "      <td>0.031311</td>\n",
       "      <td>0.031887</td>\n",
       "      <td>0.032479</td>\n",
       "      <td>0.033088</td>\n",
       "      <td>...</td>\n",
       "      <td>0.071638</td>\n",
       "      <td>0.069711</td>\n",
       "      <td>0.06786</td>\n",
       "      <td>0.066082</td>\n",
       "      <td>0.064373</td>\n",
       "      <td>0.062729</td>\n",
       "      <td>0.061148</td>\n",
       "      <td>0.059626</td>\n",
       "      <td>0.058159</td>\n",
       "      <td>0.056747</td>\n",
       "    </tr>\n",
       "    <tr>\n",
       "      <th>1</th>\n",
       "      <td>-0.023466</td>\n",
       "      <td>-0.023876</td>\n",
       "      <td>-0.024296</td>\n",
       "      <td>-0.024727</td>\n",
       "      <td>-0.025170</td>\n",
       "      <td>-0.025625</td>\n",
       "      <td>-0.026092</td>\n",
       "      <td>-0.026572</td>\n",
       "      <td>-0.027066</td>\n",
       "      <td>-0.027574</td>\n",
       "      <td>...</td>\n",
       "      <td>-0.059698</td>\n",
       "      <td>-0.058092</td>\n",
       "      <td>-0.05655</td>\n",
       "      <td>-0.055068</td>\n",
       "      <td>-0.053644</td>\n",
       "      <td>-0.052274</td>\n",
       "      <td>-0.050957</td>\n",
       "      <td>-0.049688</td>\n",
       "      <td>-0.048466</td>\n",
       "      <td>-0.047289</td>\n",
       "    </tr>\n",
       "  </tbody>\n",
       "</table>\n",
       "<p>2 rows × 199 columns</p>\n",
       "</div>"
      ],
      "text/plain": [
       "        0         1         2         3         4         5         6    \\\n",
       "0  0.028160  0.028651  0.029155  0.029673  0.030204  0.030750  0.031311   \n",
       "1 -0.023466 -0.023876 -0.024296 -0.024727 -0.025170 -0.025625 -0.026092   \n",
       "\n",
       "        7         8         9    ...       189       190      191       192  \\\n",
       "0  0.031887  0.032479  0.033088  ...  0.071638  0.069711  0.06786  0.066082   \n",
       "1 -0.026572 -0.027066 -0.027574  ... -0.059698 -0.058092 -0.05655 -0.055068   \n",
       "\n",
       "        193       194       195       196       197       198  \n",
       "0  0.064373  0.062729  0.061148  0.059626  0.058159  0.056747  \n",
       "1 -0.053644 -0.052274 -0.050957 -0.049688 -0.048466 -0.047289  \n",
       "\n",
       "[2 rows x 199 columns]"
      ]
     },
     "execution_count": 16,
     "metadata": {},
     "output_type": "execute_result"
    }
   ],
   "source": [
    "for i in range(len(soln_ser.columns)-1):\n",
    "    change_ser[i] = soln_ser[i+1]-soln_ser[i]\n",
    "change_ser"
   ]
  },
  {
   "cell_type": "markdown",
   "metadata": {},
   "source": [
    "### 9. Sequence of relative changes in solution\n",
    "\n",
    "If for a change in the relative pivot value from f0 to f1 the solution changes from x0 to x1, the relative change in the solution is given by -\n",
    "    <blockquote>\n",
    "    fractional_change_0 = (mag(x1-x0)/mag(x0)).(STEP/(f0-f1)) ...............here mag(x) denotes the magnitude of vector x.\n",
    "    This is the relative change of the solution when the relative pivot value is at f0.\n",
    "    </blockquote>\n",
    "    \n",
    "**An additional point here is the multiplication factor STEP/(f0-f1). Non-sigular matrices led to removal of certain entries from frac_ser. So f0-f1 can be k*STEP where k is some integer 1, 2, 3, . . . We want to study the change in the solution per unit STEP change in relative value of pivot. Hence this scaling is done.**"
   ]
  },
  {
   "cell_type": "markdown",
   "metadata": {},
   "source": [
    "**We generate two sequences for ease of calculation -** \n",
    "<ul>\n",
    "    <li>change_mag_ser for mag(x_i - x_i-1)</li>\n",
    "    <li>soln_mag_ser for mag(x_i)</li>\n",
    "</ul>"
   ]
  },
  {
   "cell_type": "code",
   "execution_count": 17,
   "metadata": {},
   "outputs": [],
   "source": [
    "change_mag_ser = np.sqrt(np.square(change_ser).sum(axis=0))\n",
    "soln_mag_ser = np.sqrt(np.square(soln_ser).sum(axis=0))"
   ]
  },
  {
   "cell_type": "code",
   "execution_count": 18,
   "metadata": {},
   "outputs": [
    {
     "data": {
      "text/plain": [
       "0      0.036656\n",
       "1      0.037295\n",
       "2      0.037951\n",
       "3      0.038625\n",
       "4      0.039317\n",
       "         ...   \n",
       "194    0.081655\n",
       "195    0.079597\n",
       "196    0.077615\n",
       "197    0.075706\n",
       "198    0.073867\n",
       "Length: 199, dtype: float64"
      ]
     },
     "execution_count": 18,
     "metadata": {},
     "output_type": "execute_result"
    }
   ],
   "source": [
    "change_mag_ser"
   ]
  },
  {
   "cell_type": "code",
   "execution_count": 19,
   "metadata": {},
   "outputs": [
    {
     "data": {
      "text/plain": [
       "0      3.680728\n",
       "1      3.716584\n",
       "2      3.753081\n",
       "3      3.790237\n",
       "4      3.828069\n",
       "         ...   \n",
       "195    6.997154\n",
       "196    6.918044\n",
       "197    6.840914\n",
       "198    6.765692\n",
       "199    6.692308\n",
       "Length: 200, dtype: float64"
      ]
     },
     "execution_count": 19,
     "metadata": {},
     "output_type": "execute_result"
    }
   ],
   "source": [
    "soln_mag_ser"
   ]
  },
  {
   "cell_type": "markdown",
   "metadata": {},
   "source": [
    "**Now the sequence of relative changes in solution  - fractional_chng_ser -**"
   ]
  },
  {
   "cell_type": "code",
   "execution_count": 20,
   "metadata": {},
   "outputs": [
    {
     "data": {
      "text/plain": [
       "0    0.0\n",
       "dtype: float64"
      ]
     },
     "execution_count": 20,
     "metadata": {},
     "output_type": "execute_result"
    }
   ],
   "source": [
    "fractional_chng_ser = pd.Series([0], dtype='float64')\n",
    "fractional_chng_ser"
   ]
  },
  {
   "cell_type": "code",
   "execution_count": 21,
   "metadata": {},
   "outputs": [
    {
     "data": {
      "text/plain": [
       "0      0.009959\n",
       "1      0.010035\n",
       "2      0.010112\n",
       "3      0.010191\n",
       "4      0.010271\n",
       "         ...   \n",
       "194    0.011536\n",
       "195    0.011376\n",
       "196    0.011219\n",
       "197    0.011067\n",
       "198    0.010918\n",
       "Length: 199, dtype: float64"
      ]
     },
     "execution_count": 21,
     "metadata": {},
     "output_type": "execute_result"
    }
   ],
   "source": [
    "for i in range(len(change_mag_ser)):\n",
    "    fractional_chng_ser[i] = (change_mag_ser[i]/soln_mag_ser[i])*(STEP/(frac_ser[i]-frac_ser[i+1]))\n",
    "fractional_chng_ser"
   ]
  },
  {
   "cell_type": "markdown",
   "metadata": {},
   "source": [
    "### 10. Plotting the relative changes in solutions against relative pivot values"
   ]
  },
  {
   "cell_type": "markdown",
   "metadata": {},
   "source": [
    "We will plot the relative pivot values along the x-axis and relative changes in solutions along y-axis.\n",
    "\n",
    "**A noteworthy point:**\n",
    "<blockquote>\n",
    "The range of the y-values will determine the range of the y-axis. However it has been observed that an extremely small percentage of y-values may be very excessively large. For example when <code>A = [[4., 1.],[2., 5.]]</code> is used as the initial matrix, the maximum value of relative change in solution is 627640824721969.4. However, 95% of the relative change in solution values vary from 0 to 20. If all of the y-values are included in the plot, the range of y-axis will turn out to be such that the variation of most of the y-values from 0 to 20 will go unnoticed.\n",
    "To avoid this we will set the y-axis range such that it includes 95% of the data-points. We let go a small percentage of the data points to gain better visual clarity.\n",
    "</blockquote>"
   ]
  },
  {
   "cell_type": "code",
   "execution_count": 22,
   "metadata": {},
   "outputs": [
    {
     "data": {
      "text/plain": [
       "<Figure size 432x288 with 0 Axes>"
      ]
     },
     "metadata": {},
     "output_type": "display_data"
    }
   ],
   "source": [
    "x_data = frac_ser[:len(frac_ser)-1]  \n",
    "'''\n",
    "Relative pivot points --> f0, f1, ..., fn\n",
    "Solutions --> x0, x1, ..., xn\n",
    "Solution change x1-x0 is plotted against f0; xn-x(n-1) is plotted against f(n-1).\n",
    "Hence x_data excludes the last data point from frac_ser\n",
    "'''\n",
    "y_data = fractional_chng_ser\n",
    "fig = plt.figure()"
   ]
  },
  {
   "cell_type": "code",
   "execution_count": 23,
   "metadata": {},
   "outputs": [],
   "source": [
    "sub1 = fig.add_subplot(1,1,1)"
   ]
  },
  {
   "cell_type": "code",
   "execution_count": 24,
   "metadata": {},
   "outputs": [],
   "source": [
    "# We will take the y-axis range so as to include the data-points within 2.5-97.5 percentile range.\n",
    "range_ser = y_data.quantile(q=[0.025, 0.975, 1.0])\n",
    "ymin = np.floor(range_ser[0.025])\n",
    "ymax = np.ceil(range_ser[0.975])\n",
    "plot_props = {\n",
    "    'ylim': (ymin, ymax),\n",
    "    'title': 'Dependence of solution stability on first pivot entry',\n",
    "    'xlabel': 'relative pivot value',\n",
    "    'ylabel': 'relative solution change'\n",
    "}"
   ]
  },
  {
   "cell_type": "code",
   "execution_count": 25,
   "metadata": {},
   "outputs": [
    {
     "data": {
      "text/plain": [
       "[(0.0, 1.0),\n",
       " Text(0, 0.5, 'relative solution change'),\n",
       " Text(0.5, 0, 'relative pivot value'),\n",
       " Text(0.5, 1.0, 'Dependence of solution stability on first pivot entry')]"
      ]
     },
     "execution_count": 25,
     "metadata": {},
     "output_type": "execute_result"
    }
   ],
   "source": [
    "sub1.set(**plot_props)"
   ]
  },
  {
   "cell_type": "code",
   "execution_count": 26,
   "metadata": {},
   "outputs": [
    {
     "data": {
      "text/plain": [
       "[<matplotlib.lines.Line2D at 0x5f557c2588>]"
      ]
     },
     "execution_count": 26,
     "metadata": {},
     "output_type": "execute_result"
    }
   ],
   "source": [
    "sub1.plot(x_data, y_data, color='b', marker='.', linestyle='-')"
   ]
  },
  {
   "cell_type": "code",
   "execution_count": 27,
   "metadata": {},
   "outputs": [
    {
     "data": {
      "image/png": "[encoded data removed]",
      "text/plain": [
       "<Figure size 432x288 with 1 Axes>"
      ]
     },
     "execution_count": 27,
     "metadata": {},
     "output_type": "execute_result"
    }
   ],
   "source": [
    "fig"
   ]
  },
  {
   "cell_type": "markdown",
   "metadata": {},
   "source": [
    "### 11. The relative pivot value showing maximum solution instability"
   ]
  },
  {
   "cell_type": "code",
   "execution_count": 28,
   "metadata": {},
   "outputs": [
    {
     "data": {
      "text/plain": [
       "0.839999999999999"
      ]
     },
     "execution_count": 28,
     "metadata": {},
     "output_type": "execute_result"
    }
   ],
   "source": [
    "pivot_max = x_data[y_data.idxmax()]\n",
    "pivot_max"
   ]
  },
  {
   "cell_type": "markdown",
   "metadata": {},
   "source": [
    "### 12. Conclusion"
   ]
  },
  {
   "cell_type": "markdown",
   "metadata": {},
   "source": [
    "We see that as the relative pivot value decreases there is a spike in the relative changes of solution i.e., solution instability increases sharply. **If this plot nature turns out to be typical** then doing a row exchange during Gauss elimination to ensure maximum value in a column acts as a pivot indeed makes a solution more stable, prtecting it from errors. That is because using the maximum column value as a pivot will keep the relative pivot value large (towards the extreme right of the plot) and the solution stable.\n",
    "\n",
    "**The need for further investigation:**<br></br>\n",
    "However this above conclusion says - **\"If this plot nature turns out to be typical\"**. This needs to be investigated. To investigate that we will perform the last two steps mentioned under **\"Some additional and noteworthy points\"** in the **Strategy** section at the very beginning. While this notebook demonstrated the strategy over one matrix, the same strategy will be repeated over many matrices of various sizes in _________________.py. "
   ]
  },
  {
   "cell_type": "code",
   "execution_count": null,
   "metadata": {},
   "outputs": [],
   "source": []
  }
 ],
 "metadata": {
  "kernelspec": {
   "display_name": "Python 3",
   "language": "python",
   "name": "python3"
  },
  "language_info": {
   "codemirror_mode": {
    "name": "ipython",
    "version": 3
   },
   "file_extension": ".py",
   "mimetype": "text/x-python",
   "name": "python",
   "nbconvert_exporter": "python",
   "pygments_lexer": "ipython3",
   "version": "3.7.6"
  }
 },
 "nbformat": 4,
 "nbformat_minor": 4
}
